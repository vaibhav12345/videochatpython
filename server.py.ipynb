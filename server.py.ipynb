{
 "cells": [
  {
   "cell_type": "code",
   "execution_count": 1,
   "metadata": {},
   "outputs": [],
   "source": [
    "import socket\n",
    "import cv2 as cv\n",
    "import numpy as np\n",
    "import pyaudio"
   ]
  },
  {
   "cell_type": "code",
   "execution_count": 2,
   "metadata": {},
   "outputs": [],
   "source": [
    "s = socket.socket()\n",
    "host = socket.gethostname()\n",
    "port = 12345"
   ]
  },
  {
   "cell_type": "code",
   "execution_count": 3,
   "metadata": {},
   "outputs": [],
   "source": [
    "s.bind((host,port))\n",
    "s.listen(5)"
   ]
  },
  {
   "cell_type": "code",
   "execution_count": 4,
   "metadata": {},
   "outputs": [],
   "source": [
    "FORMAT = pyaudio.paInt16\n",
    "CHANNELS = 1\n",
    "RATE = 44100\n",
    "CHUNK = 4096"
   ]
  },
  {
   "cell_type": "code",
   "execution_count": null,
   "metadata": {},
   "outputs": [],
   "source": [
    "while True:\n",
    "    content,address = s.accept()\n",
    "    \n",
    "    cap = cv.VideoCapture(0)\n",
    "    audio = pyaudio.PyAudio()\n",
    "    stream = audio.open(format=FORMAT, channels=CHANNELS, rate=RATE, input=True, frames_per_buffer=CHUNK)\n",
    "    stream.start_stream()\n",
    "    while True:\n",
    "        \n",
    "        ret, frame = cap.read()\n",
    "        arr = np.array(frame)\n",
    "        x = arr.tostring()\n",
    "        l = len(x)\n",
    "        #print(l)\n",
    "        for i in range(0,len(x),1024):\n",
    "            content.send(x[i:i+1024])\n",
    "        #print(\"sent frame\")\n",
    "        \n",
    "        \n",
    "        stream_chunk = stream.read(CHUNK)\n",
    "        #print(len(stream_chunk))\n",
    "        for i in range(0,len(stream_chunk),1024):\n",
    "            content.send(stream_chunk[i:i+1024])\n",
    "        \n",
    "        #print(\"sent stream\")\n",
    "        \n",
    "        \n",
    "    cap.release()\n",
    "    cv.destroyAllWindows()\n",
    "            \n",
    "    key = cv.waitKey(1)\n",
    "    if key in [27, 81, 113]:#esc,Q,q\n",
    "        break"
   ]
  },
  {
   "cell_type": "code",
   "execution_count": null,
   "metadata": {},
   "outputs": [],
   "source": []
  }
 ],
 "metadata": {
  "kernelspec": {
   "display_name": "Python 3",
   "language": "python",
   "name": "python3"
  },
  "language_info": {
   "codemirror_mode": {
    "name": "ipython",
    "version": 3
   },
   "file_extension": ".py",
   "mimetype": "text/x-python",
   "name": "python",
   "nbconvert_exporter": "python",
   "pygments_lexer": "ipython3",
   "version": "3.5.0"
  }
 },
 "nbformat": 4,
 "nbformat_minor": 2
}
