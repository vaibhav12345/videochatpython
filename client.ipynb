{
 "cells": [
  {
   "cell_type": "code",
   "execution_count": 1,
   "metadata": {},
   "outputs": [],
   "source": [
    "import socket\n",
    "import cv2 as cv\n",
    "import numpy as np\n",
    "import datetime\n",
    "import pyaudio"
   ]
  },
  {
   "cell_type": "code",
   "execution_count": 2,
   "metadata": {},
   "outputs": [],
   "source": [
    "s = socket.socket()\n",
    "host = socket.gethostname()\n",
    "port = 12345"
   ]
  },
  {
   "cell_type": "code",
   "execution_count": 3,
   "metadata": {},
   "outputs": [],
   "source": [
    "s.connect((host,port))"
   ]
  },
  {
   "cell_type": "code",
   "execution_count": 4,
   "metadata": {},
   "outputs": [],
   "source": [
    "FORMAT = pyaudio.paInt16\n",
    "CHANNELS = 1\n",
    "RATE = 44100\n",
    "CHUNK = 4096"
   ]
  },
  {
   "cell_type": "code",
   "execution_count": 5,
   "metadata": {},
   "outputs": [],
   "source": [
    "audio = pyaudio.PyAudio()\n",
    "stream = audio.open(format=FORMAT, channels=CHANNELS, rate=RATE, output=True, frames_per_buffer=CHUNK)\n",
    "stream.start_stream()\n",
    "\n",
    "while True:\n",
    "    \n",
    "    frame=s.recv(1024)\n",
    "    while(len(frame)!=921600):\n",
    "        frame+=s.recv(1024)\n",
    "        \n",
    "    y = np.frombuffer(frame,dtype='uint8')\n",
    "    #print(len(y))\n",
    "    y = y.reshape(480,640,3)\n",
    "    cv.imshow('Live Web-Cam Feed', y)\n",
    "\n",
    "    key = cv.waitKey(1)\n",
    "    if key in [27, 81, 113]:#esc,Q,q\n",
    "        break\n",
    "    \n",
    "    stream_chunk = s.recv(1024)\n",
    "    while(len(stream_chunk)!=2*CHUNK):\n",
    "        stream_chunk+=s.recv(1024)\n",
    "    stream.write(stream_chunk)"
   ]
  },
  {
   "cell_type": "code",
   "execution_count": 5,
   "metadata": {},
   "outputs": [],
   "source": [
    "frame=None\n",
    "c=0\n",
    "audio = pyaudio.PyAudio()\n",
    "stream = audio.open(format=FORMAT, channels=CHANNELS, rate=RATE, output=True, frames_per_buffer=CHUNK)\n",
    "stream.start_stream()\n",
    "while True:\n",
    "    data = s.recv(1024)\n",
    "    #sb = data.decode()\n",
    "    #if sb=='frame_sent':\n",
    "    #if frame!=None:\n",
    "        #print(len(frame))\n",
    "    if frame!=None and len(frame)==921600:\n",
    "        y = np.frombuffer(frame,dtype='uint8')\n",
    "        #print(len(y))\n",
    "        y = y.reshape(480,640,3)\n",
    "        cv.imshow('Live Web-Cam Feed', y)\n",
    "        \n",
    "        key = cv.waitKey(1)\n",
    "        if key in [27, 81, 113]:#esc,Q,q\n",
    "            break\n",
    "        frame=None\n",
    "    \n",
    "    if frame is None:\n",
    "        frame = data\n",
    "    else:\n",
    "        frame+=data\n",
    "\n",
    "cv.destroyAllWindows()\n",
    "s.close()\n",
    "    "
   ]
  },
  {
   "cell_type": "code",
   "execution_count": null,
   "metadata": {},
   "outputs": [],
   "source": []
  }
 ],
 "metadata": {
  "kernelspec": {
   "display_name": "Python 3",
   "language": "python",
   "name": "python3"
  },
  "language_info": {
   "codemirror_mode": {
    "name": "ipython",
    "version": 3
   },
   "file_extension": ".py",
   "mimetype": "text/x-python",
   "name": "python",
   "nbconvert_exporter": "python",
   "pygments_lexer": "ipython3",
   "version": "3.5.0"
  }
 },
 "nbformat": 4,
 "nbformat_minor": 2
}
